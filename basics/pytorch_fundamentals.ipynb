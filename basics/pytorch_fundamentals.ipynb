{
  "nbformat": 4,
  "nbformat_minor": 0,
  "metadata": {
    "colab": {
      "provenance": []
    },
    "kernelspec": {
      "name": "python3",
      "display_name": "Python 3"
    },
    "language_info": {
      "name": "python"
    }
  },
  "cells": [
    {
      "cell_type": "code",
      "execution_count": 1,
      "metadata": {
        "id": "2oafJiJ8NCcO"
      },
      "outputs": [],
      "source": [
        "import torch"
      ]
    },
    {
      "cell_type": "code",
      "source": [
        "# Initializing a tensor\n",
        "\n",
        "x = torch.tensor([[1,2]])\n",
        "y = torch.tensor([[1],[2]])"
      ],
      "metadata": {
        "id": "Y12raG3ZNbpB"
      },
      "execution_count": null,
      "outputs": []
    },
    {
      "cell_type": "code",
      "source": [
        "print(x.shape)\n",
        "print(y.shape)"
      ],
      "metadata": {
        "colab": {
          "base_uri": "https://localhost:8080/"
        },
        "id": "mZSjoLmyNp9x",
        "outputId": "314fc7be-0db4-418d-c716-43caca49de36"
      },
      "execution_count": null,
      "outputs": [
        {
          "output_type": "stream",
          "name": "stdout",
          "text": [
            "torch.Size([1, 2])\n",
            "torch.Size([2, 1])\n"
          ]
        }
      ]
    },
    {
      "cell_type": "code",
      "source": [
        "print(x.dtype)"
      ],
      "metadata": {
        "colab": {
          "base_uri": "https://localhost:8080/"
        },
        "id": "WDvhhagcNwXf",
        "outputId": "c1a086f2-4e4c-4ffb-ea64-47dbac80f73d"
      },
      "execution_count": null,
      "outputs": [
        {
          "output_type": "stream",
          "name": "stdout",
          "text": [
            "torch.int64\n"
          ]
        }
      ]
    },
    {
      "cell_type": "code",
      "source": [
        "x = torch.tensor([False, 1, 2.0])\n",
        "print(x)"
      ],
      "metadata": {
        "colab": {
          "base_uri": "https://localhost:8080/"
        },
        "id": "80gyehvwN7Vy",
        "outputId": "9666e936-7ce1-41c5-e69f-4bab12211060"
      },
      "execution_count": null,
      "outputs": [
        {
          "output_type": "stream",
          "name": "stdout",
          "text": [
            "tensor([0., 1., 2.])\n"
          ]
        }
      ]
    },
    {
      "cell_type": "code",
      "source": [
        "torch.zeros((3, 4))"
      ],
      "metadata": {
        "colab": {
          "base_uri": "https://localhost:8080/"
        },
        "id": "JGm1eu18ODp5",
        "outputId": "432817dd-b1e9-4f6c-994c-9538a85ffb8d"
      },
      "execution_count": null,
      "outputs": [
        {
          "output_type": "execute_result",
          "data": {
            "text/plain": [
              "tensor([[0., 0., 0., 0.],\n",
              "        [0., 0., 0., 0.],\n",
              "        [0., 0., 0., 0.]])"
            ]
          },
          "metadata": {},
          "execution_count": 6
        }
      ]
    },
    {
      "cell_type": "code",
      "source": [
        "torch.ones((3, 4))"
      ],
      "metadata": {
        "colab": {
          "base_uri": "https://localhost:8080/"
        },
        "id": "S6edYELJOHg-",
        "outputId": "56fedf51-af08-4a18-c3e5-4ac415b5d935"
      },
      "execution_count": null,
      "outputs": [
        {
          "output_type": "execute_result",
          "data": {
            "text/plain": [
              "tensor([[1., 1., 1., 1.],\n",
              "        [1., 1., 1., 1.],\n",
              "        [1., 1., 1., 1.]])"
            ]
          },
          "metadata": {},
          "execution_count": 7
        }
      ]
    },
    {
      "cell_type": "code",
      "source": [
        "torch.randint(low=0, high=10, size=(3,4))"
      ],
      "metadata": {
        "colab": {
          "base_uri": "https://localhost:8080/"
        },
        "id": "ddwpSHnROKkN",
        "outputId": "46e07da7-cac8-4f86-ac57-56647699584b"
      },
      "execution_count": null,
      "outputs": [
        {
          "output_type": "execute_result",
          "data": {
            "text/plain": [
              "tensor([[7, 2, 8, 4],\n",
              "        [8, 7, 9, 8],\n",
              "        [9, 4, 8, 7]])"
            ]
          },
          "metadata": {},
          "execution_count": 8
        }
      ]
    },
    {
      "cell_type": "code",
      "source": [
        "torch.rand(3, 4)"
      ],
      "metadata": {
        "colab": {
          "base_uri": "https://localhost:8080/"
        },
        "id": "oqMbhvRCOSmI",
        "outputId": "5c1bce0a-48c9-4fea-c98b-eae80f6acf15"
      },
      "execution_count": null,
      "outputs": [
        {
          "output_type": "execute_result",
          "data": {
            "text/plain": [
              "tensor([[0.4300, 0.6937, 0.9556, 0.0172],\n",
              "        [0.7962, 0.1419, 0.2748, 0.8776],\n",
              "        [0.1149, 0.0694, 0.0843, 0.6589]])"
            ]
          },
          "metadata": {},
          "execution_count": 9
        }
      ]
    },
    {
      "cell_type": "code",
      "source": [
        "# Return a sample (or samples) from the “standard normal” distribution.\n",
        "\n",
        "torch.randn((3,4))"
      ],
      "metadata": {
        "colab": {
          "base_uri": "https://localhost:8080/"
        },
        "id": "kV_JjWyAOVpr",
        "outputId": "4834d99e-d576-4448-dccf-75cc2b84c49f"
      },
      "execution_count": null,
      "outputs": [
        {
          "output_type": "execute_result",
          "data": {
            "text/plain": [
              "tensor([[ 0.3629,  0.7268,  0.0701, -0.7092],\n",
              "        [ 0.1998, -0.3023,  1.1879,  0.6534],\n",
              "        [-2.5145,  0.6704, -0.0140,  1.3617]])"
            ]
          },
          "metadata": {},
          "execution_count": 10
        }
      ]
    },
    {
      "cell_type": "code",
      "source": [
        "import numpy as np\n",
        "\n",
        "x = np.array([[10,20,30],[2,3,4]])\n",
        "y = torch.tensor(x)\n",
        "print(type(x), type(y))"
      ],
      "metadata": {
        "colab": {
          "base_uri": "https://localhost:8080/"
        },
        "id": "VcWZoDZ-OY9b",
        "outputId": "89ef8ec8-491e-494a-9e22-4651e8801441"
      },
      "execution_count": null,
      "outputs": [
        {
          "output_type": "stream",
          "name": "stdout",
          "text": [
            "<class 'numpy.ndarray'> <class 'torch.Tensor'>\n"
          ]
        }
      ]
    },
    {
      "cell_type": "markdown",
      "source": [
        "## operations on tensors"
      ],
      "metadata": {
        "id": "VkVD_cPhPfVL"
      }
    },
    {
      "cell_type": "code",
      "source": [
        "import torch\n",
        "x = torch.tensor([[1,2,3,4], [5,6,7,8]])\n",
        "print(x * 10)"
      ],
      "metadata": {
        "colab": {
          "base_uri": "https://localhost:8080/"
        },
        "id": "PnIZLZi0PXsK",
        "outputId": "adb74801-3410-40dd-b376-e7ad6daed74f"
      },
      "execution_count": null,
      "outputs": [
        {
          "output_type": "stream",
          "name": "stdout",
          "text": [
            "tensor([[10, 20, 30, 40],\n",
            "        [50, 60, 70, 80]])\n"
          ]
        }
      ]
    },
    {
      "cell_type": "code",
      "source": [
        "x = torch.tensor([[1,2,3,4], [5,6,7,8]])\n",
        "y = x.add(10)\n",
        "print(y)"
      ],
      "metadata": {
        "colab": {
          "base_uri": "https://localhost:8080/"
        },
        "id": "FZPuFZU7Plt8",
        "outputId": "7611e231-5222-4cb7-f64e-d98cfe8aa38c"
      },
      "execution_count": null,
      "outputs": [
        {
          "output_type": "stream",
          "name": "stdout",
          "text": [
            "tensor([[11, 12, 13, 14],\n",
            "        [15, 16, 17, 18]])\n"
          ]
        }
      ]
    },
    {
      "cell_type": "code",
      "source": [
        "y = torch.tensor([2, 3, 1, 0])\n",
        "\n",
        "y"
      ],
      "metadata": {
        "colab": {
          "base_uri": "https://localhost:8080/"
        },
        "id": "W22G15rCPoja",
        "outputId": "4056dcd3-36f5-495d-e1c0-f253f243eb4c"
      },
      "execution_count": null,
      "outputs": [
        {
          "output_type": "execute_result",
          "data": {
            "text/plain": [
              "tensor([2, 3, 1, 0])"
            ]
          },
          "metadata": {},
          "execution_count": 14
        }
      ]
    },
    {
      "cell_type": "code",
      "source": [
        "y = y.view(4,1)\n",
        "\n",
        "y"
      ],
      "metadata": {
        "colab": {
          "base_uri": "https://localhost:8080/"
        },
        "id": "JczWByFnP5gx",
        "outputId": "38890246-49c4-46d4-9034-16c9b87a8e29"
      },
      "execution_count": null,
      "outputs": [
        {
          "output_type": "execute_result",
          "data": {
            "text/plain": [
              "tensor([[2],\n",
              "        [3],\n",
              "        [1],\n",
              "        [0]])"
            ]
          },
          "metadata": {},
          "execution_count": 15
        }
      ]
    },
    {
      "cell_type": "code",
      "source": [
        "# another way for reshaping\n",
        "\n",
        "x = torch.randn(10,1,10)\n",
        "z1 = torch.squeeze(x, 1) # similar to np.squeeze()\n",
        "\n",
        "# The same operation can be directly performed on\n",
        "# x by calling squeeze and the dimension to squeeze out\n",
        "z2 = x.squeeze(1)\n",
        "assert torch.all(z1 == z2)\n",
        "# all the elements in both tensors are equal\n",
        "print('Squeeze:\\n', x.shape, z1.shape)"
      ],
      "metadata": {
        "colab": {
          "base_uri": "https://localhost:8080/"
        },
        "id": "3C9s07gpP6-x",
        "outputId": "de81a0f4-f12e-4122-b56b-976500a4e3b7"
      },
      "execution_count": null,
      "outputs": [
        {
          "output_type": "stream",
          "name": "stdout",
          "text": [
            "Squeeze:\n",
            " torch.Size([10, 1, 10]) torch.Size([10, 10])\n"
          ]
        }
      ]
    },
    {
      "cell_type": "code",
      "source": [
        "# The opposite of squeeze is unsqueeze, which means we add a dimension\n",
        "# to the matrix\n",
        "\n",
        "x = torch.randn(10,10)\n",
        "print(x.shape)\n",
        "z1 = x.unsqueeze(0)\n",
        "print(z1.shape)"
      ],
      "metadata": {
        "colab": {
          "base_uri": "https://localhost:8080/"
        },
        "id": "XgB6ScHYRpwG",
        "outputId": "4cc352e9-f992-4a7c-f4b0-8521bbd8f35e"
      },
      "execution_count": null,
      "outputs": [
        {
          "output_type": "stream",
          "name": "stdout",
          "text": [
            "torch.Size([10, 10])\n",
            "torch.Size([1, 10, 10])\n"
          ]
        }
      ]
    },
    {
      "cell_type": "code",
      "source": [
        "# The same can be achieved using [None] indexing\n",
        "# Adding None will auto create a fake dim\n",
        "# at the specified axis\n",
        "x = torch.randn(10,10)\n",
        "z2, z3, z4 = x[None], x[:,None], x[:,:,None]\n",
        "print(z2.shape, z3.shape, z4.shape)"
      ],
      "metadata": {
        "id": "1BxSU7loR-Nk",
        "colab": {
          "base_uri": "https://localhost:8080/"
        },
        "outputId": "d2002a07-efe7-4670-ee08-a3a80c020d68"
      },
      "execution_count": 2,
      "outputs": [
        {
          "output_type": "stream",
          "name": "stdout",
          "text": [
            "torch.Size([1, 10, 10]) torch.Size([10, 1, 10]) torch.Size([10, 10, 1])\n"
          ]
        }
      ]
    },
    {
      "cell_type": "code",
      "source": [
        "# Matrix multiplication of two different tensors\n",
        "\n",
        "x = torch.tensor([[1,2,3,4], [5,6,7,8]])\n",
        "y = torch.tensor([2, 3, 1, 0])\n",
        "print(torch.matmul(x, y))"
      ],
      "metadata": {
        "colab": {
          "base_uri": "https://localhost:8080/"
        },
        "id": "MAvTLbh2x-EW",
        "outputId": "c841c84a-a4c3-473c-a6fd-3676916fd68b"
      },
      "execution_count": 4,
      "outputs": [
        {
          "output_type": "stream",
          "name": "stdout",
          "text": [
            "tensor([11, 35])\n"
          ]
        }
      ]
    },
    {
      "cell_type": "code",
      "source": [
        "# matrix multiplication can also be performed by using the @ operator\n",
        "\n",
        "print(x @ y)"
      ],
      "metadata": {
        "colab": {
          "base_uri": "https://localhost:8080/"
        },
        "id": "FmXRqOzHyv7p",
        "outputId": "c22e9924-db9c-4a94-9e3c-6d054baf296d"
      },
      "execution_count": 5,
      "outputs": [
        {
          "output_type": "stream",
          "name": "stdout",
          "text": [
            "tensor([11, 35])\n"
          ]
        }
      ]
    },
    {
      "cell_type": "code",
      "source": [
        "# we can perform concatenation oftensors using the cat method\n",
        "\n",
        "x = torch.randn(10,10,10)\n",
        "z = torch.cat([x,x], axis=0) # np.concatenate()\n",
        "print('Cat axis 0:', x.shape, z.shape)"
      ],
      "metadata": {
        "colab": {
          "base_uri": "https://localhost:8080/"
        },
        "id": "Cp9HqF7FzCnB",
        "outputId": "9e863f79-2fcc-4c1e-b911-3ea51bf863c7"
      },
      "execution_count": 6,
      "outputs": [
        {
          "output_type": "stream",
          "name": "stdout",
          "text": [
            "Cat axis 0: torch.Size([10, 10, 10]) torch.Size([20, 10, 10])\n"
          ]
        }
      ]
    },
    {
      "cell_type": "code",
      "source": [
        "# Extraction of the maximum value in a tensor\n",
        "\n",
        "x = torch.arange(25).reshape(5,5)\n",
        "print('Max:', x.shape, x.max())"
      ],
      "metadata": {
        "colab": {
          "base_uri": "https://localhost:8080/"
        },
        "id": "TJwYHbYAzSzK",
        "outputId": "b29ac4db-8478-4cb7-80f7-bc6a55b03e3d"
      },
      "execution_count": 10,
      "outputs": [
        {
          "output_type": "stream",
          "name": "stdout",
          "text": [
            "Max: torch.Size([5, 5]) tensor(24)\n"
          ]
        }
      ]
    },
    {
      "cell_type": "code",
      "source": [
        "# extract the maximum value along with the row index\n",
        "\n",
        "x.max(dim=0)"
      ],
      "metadata": {
        "colab": {
          "base_uri": "https://localhost:8080/"
        },
        "id": "FqGTt9OJzg4q",
        "outputId": "a634c5d6-2b9e-4665-89dc-425b6f90b60f"
      },
      "execution_count": 14,
      "outputs": [
        {
          "output_type": "execute_result",
          "data": {
            "text/plain": [
              "torch.return_types.max(\n",
              "values=tensor([20, 21, 22, 23, 24]),\n",
              "indices=tensor([4, 4, 4, 4, 4]))"
            ]
          },
          "metadata": {},
          "execution_count": 14
        }
      ]
    },
    {
      "cell_type": "code",
      "source": [
        "# maximum value across columns\n",
        "\n",
        "m, argm = x.max(dim=1)\n",
        "print('Max in axis 1:\\n', m, argm)"
      ],
      "metadata": {
        "colab": {
          "base_uri": "https://localhost:8080/"
        },
        "id": "px9GJRVUz2-K",
        "outputId": "b5e9ee5d-b9ea-4b11-91f8-879e520a579b"
      },
      "execution_count": 15,
      "outputs": [
        {
          "output_type": "stream",
          "name": "stdout",
          "text": [
            "Max in axis 1:\n",
            " tensor([ 4,  9, 14, 19, 24]) tensor([4, 4, 4, 4, 4])\n"
          ]
        }
      ]
    },
    {
      "cell_type": "code",
      "source": [
        "x = torch.randn(10,20,30)\n",
        "z = x.permute(2,0,1) # np.permute()\n",
        "print('Permute dimensions:', x.shape, z.shape)"
      ],
      "metadata": {
        "colab": {
          "base_uri": "https://localhost:8080/"
        },
        "id": "6FOqcgW606Cl",
        "outputId": "4db19e89-fcee-4a8a-8b5f-0f87633ea1f0"
      },
      "execution_count": 16,
      "outputs": [
        {
          "output_type": "stream",
          "name": "stdout",
          "text": [
            "Permute dimensions: torch.Size([10, 20, 30]) torch.Size([30, 10, 20])\n"
          ]
        }
      ]
    },
    {
      "cell_type": "markdown",
      "source": [
        "## Auto gradients of tensor objects"
      ],
      "metadata": {
        "id": "8O495L9x2B7s"
      }
    },
    {
      "cell_type": "code",
      "source": [
        "x = torch.tensor([[2., -1.], [1., 1.]], requires_grad=True)\n",
        "print(x)\n",
        "\n",
        "# requires_grad parameter specifies that the\n",
        "# gradient is to be calculated for the tensor object"
      ],
      "metadata": {
        "colab": {
          "base_uri": "https://localhost:8080/"
        },
        "id": "HCxF28sF1y75",
        "outputId": "268cd8fa-0f3b-48b3-f688-53484f67271e"
      },
      "execution_count": 18,
      "outputs": [
        {
          "output_type": "stream",
          "name": "stdout",
          "text": [
            "tensor([[ 2., -1.],\n",
            "        [ 1.,  1.]], requires_grad=True)\n"
          ]
        }
      ]
    },
    {
      "cell_type": "code",
      "source": [
        "# define the way to calculate the output, which in this specific case is\n",
        "# the sum of the squares of all inputs\n",
        "\n",
        "out = x.pow(2).sum()\n",
        "out"
      ],
      "metadata": {
        "colab": {
          "base_uri": "https://localhost:8080/"
        },
        "id": "_acLBszC16gI",
        "outputId": "32752af8-ea76-47a1-d7fc-3be293c19e74"
      },
      "execution_count": 20,
      "outputs": [
        {
          "output_type": "execute_result",
          "data": {
            "text/plain": [
              "tensor(7., grad_fn=<SumBackward0>)"
            ]
          },
          "metadata": {},
          "execution_count": 20
        }
      ]
    },
    {
      "cell_type": "code",
      "source": [
        "# The gradient of a value can be calculated by\n",
        "# calling the backward() method to the value.\n",
        "\n",
        "out.backward()"
      ],
      "metadata": {
        "id": "byfQ-j4J3S-d"
      },
      "execution_count": 21,
      "outputs": []
    },
    {
      "cell_type": "code",
      "source": [
        "# obtain the gradient of out with respect to x\n",
        "\n",
        "x.grad"
      ],
      "metadata": {
        "colab": {
          "base_uri": "https://localhost:8080/"
        },
        "id": "qzPKZNJK32bV",
        "outputId": "a432d41f-9dbe-4d60-d8bb-60b78ace8f83"
      },
      "execution_count": 22,
      "outputs": [
        {
          "output_type": "execute_result",
          "data": {
            "text/plain": [
              "tensor([[ 4., -2.],\n",
              "        [ 2.,  2.]])"
            ]
          },
          "metadata": {},
          "execution_count": 22
        }
      ]
    },
    {
      "cell_type": "markdown",
      "source": [
        "## Advantages of PyTorch's tensors over NumPy's ndarrays"
      ],
      "metadata": {
        "id": "Dsbflyej5qyo"
      }
    },
    {
      "cell_type": "code",
      "source": [
        "x = torch.rand(1, 6400)\n",
        "y = torch.rand(6400, 5000)\n",
        "\n",
        "device = 'cuda' if torch.cuda.is_available() else 'cpu'\n",
        "\n",
        "# storing information in a device\n",
        "x, y = x.to(device), y.to(device)\n",
        "\n",
        "\n",
        "%timeit z=(x@y)\n",
        "# It takes 0.515 milli seconds on an average to\n",
        "# perform matrix multiplication\n",
        "\n",
        "x, y = x.cpu(), y.cpu()\n",
        "%timeit z=(x@y)\n",
        "# It takes 9 milli seconds on an average to\n",
        "# perform matrix multiplication\n",
        "\n",
        "\n",
        "import numpy as np\n",
        "x = np.random.random((1, 6400))\n",
        "y = np.random.random((6400, 5000))\n",
        "%timeit z = np.matmul(x,y)\n",
        "# It takes 19 milli seconds on an average to\n",
        "# perform matrix multiplication"
      ],
      "metadata": {
        "id": "lTI4FkTz34ql"
      },
      "execution_count": null,
      "outputs": []
    },
    {
      "cell_type": "markdown",
      "source": [
        "## Building a neural network"
      ],
      "metadata": {
        "id": "hyKYyXCt7deU"
      }
    },
    {
      "cell_type": "code",
      "source": [
        "# Define the input (x) and output (y) values\n",
        "\n",
        "x = [[1,2],[3,4],[5,6],[7,8]]\n",
        "y = [[3],[7],[11],[15]]"
      ],
      "metadata": {
        "id": "nPajEN8s5gXq"
      },
      "execution_count": 24,
      "outputs": []
    },
    {
      "cell_type": "code",
      "source": [
        "# Convert the input lists into tensor objects\n",
        "\n",
        "X = torch.tensor(x).float()\n",
        "Y = torch.tensor(y).float()\n",
        "\n",
        "# register the input (X) and output (Y) data points to the device – cuda\n",
        "device = 'cuda' if torch.cuda.is_available() else 'cpu'\n",
        "X = X.to(device)\n",
        "Y = Y.to(device)"
      ],
      "metadata": {
        "id": "2mdhvs_17yj6"
      },
      "execution_count": 25,
      "outputs": []
    },
    {
      "cell_type": "code",
      "source": [
        "# building nn\n",
        "\n",
        "import torch.nn as nn\n",
        "\n",
        "class MyNeuralNet(nn.Module):\n",
        "  def __init__(self):\n",
        "    super().__init__()\n",
        "    self.input_to_hidden_layer = nn.Linear(2,8)\n",
        "    self.hidden_layer_activation = nn.ReLU()\n",
        "    self.hidden_to_output_layer = nn.Linear(8,1)\n",
        "\n",
        "  def forward(self, x):\n",
        "    x = self.input_to_hidden_layer(x)\n",
        "    x = self.hidden_layer_activation(x)\n",
        "    x = self.hidden_to_output_layer(x)\n",
        "    return x"
      ],
      "metadata": {
        "id": "YdGlSGa48BEM"
      },
      "execution_count": 26,
      "outputs": []
    },
    {
      "cell_type": "code",
      "source": [
        "mynet = MyNeuralNet().to(device)"
      ],
      "metadata": {
        "id": "x0uHZtRw96qI"
      },
      "execution_count": 27,
      "outputs": []
    },
    {
      "cell_type": "code",
      "source": [
        "# for illustration only\n",
        "\n",
        "class MyNeuralNet(nn.Module):\n",
        "  def __init__(self):\n",
        "    super().__init__()\n",
        "    self.input_to_hidden_layer = nn.Parameter(torch.rand(2,8))\n",
        "    self.hidden_layer_activation = nn.ReLU()\n",
        "    self.hidden_to_output_layer = nn.Parameter(torch.rand(8,1))\n",
        "\n",
        "  def forward(self, x):\n",
        "    x = x @ self.input_to_hidden_layer\n",
        "    x = self.hidden_layer_activation(x)\n",
        "    x = x @ self.hidden_to_output_layer\n",
        "    return x"
      ],
      "metadata": {
        "id": "27UjGJxj-kO_"
      },
      "execution_count": 32,
      "outputs": []
    },
    {
      "cell_type": "code",
      "source": [
        "loss_func = nn.MSELoss()"
      ],
      "metadata": {
        "id": "a8I1GUu2-8m_"
      },
      "execution_count": 33,
      "outputs": []
    },
    {
      "cell_type": "code",
      "source": [
        "_Y = mynet(X)\n",
        "loss_value = loss_func(_Y,Y)\n",
        "print(loss_value)"
      ],
      "metadata": {
        "colab": {
          "base_uri": "https://localhost:8080/"
        },
        "id": "dgeGCu7j_Dfa",
        "outputId": "ff917473-47b5-4333-a8d4-9367e27929e1"
      },
      "execution_count": 34,
      "outputs": [
        {
          "output_type": "stream",
          "name": "stdout",
          "text": [
            "tensor(76.4070, grad_fn=<MseLossBackward0>)\n"
          ]
        }
      ]
    },
    {
      "cell_type": "code",
      "source": [
        "from torch.optim import SGD\n",
        "opt = SGD(mynet.parameters(), lr = 0.001)"
      ],
      "metadata": {
        "id": "EPkVAmkpDNpG"
      },
      "execution_count": 35,
      "outputs": []
    },
    {
      "cell_type": "code",
      "source": [
        "opt.zero_grad() # flush the previous epoch's gradients\n",
        "loss_value = loss_func(mynet(X),Y) # compute loss\n",
        "loss_value.backward() # perform back-propagation\n",
        "opt.step() # update the weights according to the gradients computed"
      ],
      "metadata": {
        "id": "G9z0EJPzDWCH"
      },
      "execution_count": 36,
      "outputs": []
    },
    {
      "cell_type": "code",
      "source": [
        "loss_history = []\n",
        "for _ in range(50):\n",
        "  opt.zero_grad()\n",
        "  loss_value = loss_func(mynet(X),Y)\n",
        "  loss_value.backward()\n",
        "  opt.step()\n",
        "  loss_history.append(loss_value)\n",
        "\n",
        "loss_hist = []\n",
        "for loss in loss_history:\n",
        "  loss_hist.append(loss.detach().numpy())"
      ],
      "metadata": {
        "id": "fzYYurxFDkxe"
      },
      "execution_count": 37,
      "outputs": []
    },
    {
      "cell_type": "code",
      "source": [
        "import matplotlib.pyplot as plt\n",
        "%matplotlib inline\n",
        "plt.plot(loss_hist)\n",
        "plt.title('Loss variation over increasing epochs')\n",
        "plt.xlabel('epochs')\n",
        "plt.ylabel('loss value')"
      ],
      "metadata": {
        "colab": {
          "base_uri": "https://localhost:8080/",
          "height": 489
        },
        "id": "7PR9QnNiDub5",
        "outputId": "8c9cbce9-b03b-4dad-ede9-10007fc1dfc4"
      },
      "execution_count": 45,
      "outputs": [
        {
          "output_type": "execute_result",
          "data": {
            "text/plain": [
              "Text(0, 0.5, 'loss value')"
            ]
          },
          "metadata": {},
          "execution_count": 45
        },
        {
          "output_type": "display_data",
          "data": {
            "text/plain": [
              "<Figure size 640x480 with 1 Axes>"
            ],
            "image/png": "[encoded data removed]"
          },
          "metadata": {}
        }
      ]
    },
    {
      "cell_type": "markdown",
      "source": [
        "## Dataset, DataLoader, and batch size"
      ],
      "metadata": {
        "id": "xR3DbW4-Guyk"
      }
    },
    {
      "cell_type": "code",
      "source": [
        "from torch.utils.data import Dataset, DataLoader\n",
        "import torch\n",
        "import torch.nn as nn\n",
        "\n",
        "# import the data, convert the data into floating-point numbers, and register them to a device\n",
        "\n",
        "x = [[1,2],[3,4],[5,6],[7,8]]\n",
        "y = [[3],[7],[11],[15]]\n",
        "\n",
        "X = torch.tensor(x).float()\n",
        "Y = torch.tensor(y).float()\n",
        "\n",
        "device = 'cuda' if torch.cuda.is_available() else 'cpu'\n",
        "X = X.to(device)\n",
        "Y = Y.to(device)"
      ],
      "metadata": {
        "id": "HhWLTsagEXjH"
      },
      "execution_count": 46,
      "outputs": []
    },
    {
      "cell_type": "code",
      "source": [
        "class MyDataset(Dataset):\n",
        "  def __init__(self,x,y):\n",
        "    self.x = torch.tensor(x).float()\n",
        "    self.y = torch.tensor(y).float()\n",
        "\n",
        "  def __len__(self):\n",
        "    return len(self.x)\n",
        "\n",
        "  def __getitem__(self, ix):\n",
        "    return self.x[ix], self.y[ix]"
      ],
      "metadata": {
        "id": "vrVPUZU8FGEx"
      },
      "execution_count": 47,
      "outputs": []
    },
    {
      "cell_type": "code",
      "source": [
        "ds = MyDataset(X, Y)"
      ],
      "metadata": {
        "id": "T2f6FXodFnvS"
      },
      "execution_count": null,
      "outputs": []
    },
    {
      "cell_type": "code",
      "source": [
        "dl = DataLoader(ds, batch_size=2, shuffle=True)"
      ],
      "metadata": {
        "id": "xkPTbrxRMzqU"
      },
      "execution_count": 49,
      "outputs": []
    },
    {
      "cell_type": "code",
      "source": [
        "class MyNeuralNet(nn.Module):\n",
        "  def __init__(self):\n",
        "    super().__init__()\n",
        "    self.input_to_hidden_layer = nn.Linear(2,8)\n",
        "    self.hidden_layer_activation = nn.ReLU()\n",
        "    self.hidden_to_output_layer = nn.Linear(8,1)\n",
        "  def forward(self, x):\n",
        "    x = self.input_to_hidden_layer(x)\n",
        "    x = self.hidden_layer_activation(x)\n",
        "    x = self.hidden_to_output_layer(x)\n",
        "    return x"
      ],
      "metadata": {
        "id": "-QlmSSNsM6Cq"
      },
      "execution_count": 50,
      "outputs": []
    },
    {
      "cell_type": "code",
      "source": [
        "mynet = MyNeuralNet().to(device)\n",
        "loss_func = nn.MSELoss()\n",
        "from torch.optim import SGD\n",
        "opt = SGD(mynet.parameters(), lr = 0.001)"
      ],
      "metadata": {
        "id": "eTcxOSa2M_4q"
      },
      "execution_count": 51,
      "outputs": []
    },
    {
      "cell_type": "code",
      "source": [
        "import time\n",
        "loss_history = []\n",
        "start = time.time()\n",
        "for _ in range(50):\n",
        "  for data in dl:\n",
        "    x, y = data\n",
        "    opt.zero_grad()\n",
        "    loss_value = loss_func(mynet(x),y)\n",
        "    loss_value.backward()\n",
        "    opt.step()\n",
        "    loss_history.append(loss_value)\n",
        "end = time.time()\n",
        "print(end - start)"
      ],
      "metadata": {
        "colab": {
          "base_uri": "https://localhost:8080/"
        },
        "id": "xC4LLhXfNCml",
        "outputId": "3bfd0f78-577f-4f3f-d50b-dda5b073cbd0"
      },
      "execution_count": 52,
      "outputs": [
        {
          "output_type": "stream",
          "name": "stdout",
          "text": [
            "0.05288863182067871\n"
          ]
        }
      ]
    },
    {
      "cell_type": "markdown",
      "source": [
        "## Predicting on new data points"
      ],
      "metadata": {
        "id": "hZ2K07BFNVwm"
      }
    },
    {
      "cell_type": "code",
      "source": [
        "val_x = [[10,11]]\n",
        "val_x = torch.tensor(val_x).float().to(device)\n",
        "mynet(val_x)"
      ],
      "metadata": {
        "colab": {
          "base_uri": "https://localhost:8080/"
        },
        "id": "VhvMnExgNPOo",
        "outputId": "7f2716c5-7716-4785-ad89-8f7200d30803"
      },
      "execution_count": 53,
      "outputs": [
        {
          "output_type": "execute_result",
          "data": {
            "text/plain": [
              "tensor([[20.1521]], grad_fn=<AddmmBackward0>)"
            ]
          },
          "metadata": {},
          "execution_count": 53
        }
      ]
    },
    {
      "cell_type": "markdown",
      "source": [
        "## Implementing a custom loss function"
      ],
      "metadata": {
        "id": "i49d5HiKNgoq"
      }
    },
    {
      "cell_type": "code",
      "source": [
        "x = [[1,2],[3,4],[5,6],[7,8]]\n",
        "y = [[3],[7],[11],[15]]\n",
        "\n",
        "X = torch.tensor(x).float()\n",
        "Y = torch.tensor(y).float()\n",
        "\n",
        "device = 'cuda' if torch.cuda.is_available() else 'cpu'\n",
        "X = X.to(device)\n",
        "Y = Y.to(device)"
      ],
      "metadata": {
        "id": "_tyLp7-ZNcRx"
      },
      "execution_count": 54,
      "outputs": []
    },
    {
      "cell_type": "code",
      "source": [
        "class MyDataset(Dataset):\n",
        "  def __init__(self,x,y):\n",
        "    self.x = torch.tensor(x).float()\n",
        "    self.y = torch.tensor(y).float()\n",
        "  def __len__(self):\n",
        "    return len(self.x)\n",
        "  def __getitem__(self, ix):\n",
        "    return self.x[ix], self.y[ix]\n",
        "\n",
        "ds = MyDataset(X, Y)\n",
        "dl = DataLoader(ds, batch_size=2, shuffle=True)\n",
        "\n",
        "class MyNeuralNet(nn.Module):\n",
        "  def __init__(self):\n",
        "    super().__init__()\n",
        "    self.input_to_hidden_layer = nn.Linear(2,8)\n",
        "    self.hidden_layer_activation = nn.ReLU()\n",
        "    self.hidden_to_output_layer = nn.Linear(8,1)\n",
        "  def forward(self, x):\n",
        "    x = self.input_to_hidden_layer(x)\n",
        "    x = self.hidden_layer_activation(x)\n",
        "    x = self.hidden_to_output_layer(x)\n",
        "    return x\n",
        "\n",
        "mynet = MyNeuralNet().to(device)"
      ],
      "metadata": {
        "id": "zn6lH67FNlsQ"
      },
      "execution_count": null,
      "outputs": []
    },
    {
      "cell_type": "code",
      "source": [
        "def my_mean_squared_error(_y, y):\n",
        "  loss = (_y-y)**2\n",
        "  loss = loss.mean()\n",
        "  return loss"
      ],
      "metadata": {
        "id": "0pX9H5gON0V8"
      },
      "execution_count": 56,
      "outputs": []
    },
    {
      "cell_type": "code",
      "source": [
        "loss_func = nn.MSELoss()\n",
        "loss_value = loss_func(mynet(X),Y)\n",
        "print(loss_value)"
      ],
      "metadata": {
        "colab": {
          "base_uri": "https://localhost:8080/"
        },
        "id": "RZwBIARVN7k0",
        "outputId": "e9021eb2-969e-4a05-bf62-8707137c766e"
      },
      "execution_count": 57,
      "outputs": [
        {
          "output_type": "stream",
          "name": "stdout",
          "text": [
            "tensor(149.9762, grad_fn=<MseLossBackward0>)\n"
          ]
        }
      ]
    },
    {
      "cell_type": "code",
      "source": [
        "my_mean_squared_error(mynet(X),Y)"
      ],
      "metadata": {
        "colab": {
          "base_uri": "https://localhost:8080/"
        },
        "id": "5hHUdYENN_nu",
        "outputId": "bf53eaca-6268-4891-85e0-b9e06c5aaad7"
      },
      "execution_count": 58,
      "outputs": [
        {
          "output_type": "execute_result",
          "data": {
            "text/plain": [
              "tensor(149.9762, grad_fn=<MeanBackward0>)"
            ]
          },
          "metadata": {},
          "execution_count": 58
        }
      ]
    },
    {
      "cell_type": "markdown",
      "source": [
        "## Fetching the values of intermediate layers"
      ],
      "metadata": {
        "id": "CXlQmRRXOKCm"
      }
    },
    {
      "cell_type": "code",
      "source": [
        "input_to_hidden = mynet.input_to_hidden_layer(X)\n",
        "hidden_activation = mynet.hidden_layer_activation(input_to_hidden)\n",
        "print(hidden_activation)"
      ],
      "metadata": {
        "colab": {
          "base_uri": "https://localhost:8080/"
        },
        "id": "hV8NBIEHOCWx",
        "outputId": "504b877c-da00-47e0-b9fe-aa27afee4dae"
      },
      "execution_count": 59,
      "outputs": [
        {
          "output_type": "stream",
          "name": "stdout",
          "text": [
            "tensor([[0.5402, 0.2754, 0.0000, 0.0000, 0.0000, 2.1612, 0.0000, 0.0000],\n",
            "        [1.1385, 1.1568, 0.0209, 0.0000, 0.0000, 4.3106, 0.0000, 0.0000],\n",
            "        [1.7367, 2.0381, 0.2231, 0.0000, 0.0000, 6.4599, 0.0000, 0.0000],\n",
            "        [2.3350, 2.9195, 0.4253, 0.0000, 0.0000, 8.6093, 0.0000, 0.0000]],\n",
            "       grad_fn=<ReluBackward0>)\n"
          ]
        }
      ]
    },
    {
      "cell_type": "code",
      "source": [
        "class neuralnet(nn.Module):\n",
        "  def __init__(self):\n",
        "    super().__init__()\n",
        "    self.input_to_hidden_layer = nn.Linear(2,8)\n",
        "    self.hidden_layer_activation = nn.ReLU()\n",
        "    self.hidden_to_output_layer = nn.Linear(8,1)\n",
        "  def forward(self, x):\n",
        "    hidden1 = self.input_to_hidden_layer(x)\n",
        "    hidden2 = self.hidden_layer_activation(hidden1)\n",
        "    output = self.hidden_to_output_layer(hidden2)\n",
        "    return output, hidden2"
      ],
      "metadata": {
        "id": "dXhMXM9VOOMd"
      },
      "execution_count": 60,
      "outputs": []
    },
    {
      "cell_type": "code",
      "source": [
        "mynet = neuralnet().to(device)\n",
        "mynet(X)[1]"
      ],
      "metadata": {
        "colab": {
          "base_uri": "https://localhost:8080/"
        },
        "id": "ql1e2LRKObuY",
        "outputId": "18b96e51-46a9-4c88-aa7b-b8fa4d96d022"
      },
      "execution_count": 61,
      "outputs": [
        {
          "output_type": "execute_result",
          "data": {
            "text/plain": [
              "tensor([[0.0000, 0.5750, 0.1594, 0.2879, 0.0000, 0.3105, 0.0000, 0.0149],\n",
              "        [0.0000, 1.4330, 0.3003, 0.1229, 0.8910, 0.2755, 0.0000, 0.2780],\n",
              "        [0.0000, 2.2909, 0.4412, 0.0000, 1.8152, 0.2405, 0.0000, 0.5411],\n",
              "        [0.0000, 3.1488, 0.5820, 0.0000, 2.7395, 0.2056, 0.0000, 0.8042]],\n",
              "       grad_fn=<ReluBackward0>)"
            ]
          },
          "metadata": {},
          "execution_count": 61
        }
      ]
    },
    {
      "cell_type": "markdown",
      "source": [
        "## Using a sequential method to build a neural network"
      ],
      "metadata": {
        "id": "WEWECnmMOnqg"
      }
    },
    {
      "cell_type": "code",
      "source": [
        "x = [[1,2],[3,4],[5,6],[7,8]]\n",
        "y = [[3],[7],[11],[15]]"
      ],
      "metadata": {
        "id": "lJgOPmoBOffF"
      },
      "execution_count": 62,
      "outputs": []
    },
    {
      "cell_type": "code",
      "source": [
        "import torch\n",
        "import torch.nn as nn\n",
        "import numpy as np\n",
        "from torch.utils.data import Dataset, DataLoader\n",
        "device = 'cuda' if torch.cuda.is_available() else 'cpu'"
      ],
      "metadata": {
        "id": "ESCuC_YAOsfK"
      },
      "execution_count": 63,
      "outputs": []
    },
    {
      "cell_type": "code",
      "source": [
        "class MyDataset(Dataset):\n",
        "  def __init__(self, x, y):\n",
        "    self.x = torch.tensor(x).float().to(device)\n",
        "    self.y = torch.tensor(y).float().to(device)\n",
        "  def __getitem__(self, ix):\n",
        "    return self.x[ix], self.y[ix]\n",
        "  def __len__(self):\n",
        "    return len(self.x)"
      ],
      "metadata": {
        "id": "YDsWewY_Os5G"
      },
      "execution_count": 64,
      "outputs": []
    },
    {
      "cell_type": "code",
      "source": [
        "ds = MyDataset(x, y)\n",
        "dl = DataLoader(ds, batch_size=2, shuffle=True)"
      ],
      "metadata": {
        "id": "BK2oQshiOzwJ"
      },
      "execution_count": 65,
      "outputs": []
    },
    {
      "cell_type": "code",
      "source": [
        "model = nn.Sequential(\n",
        "    nn.Linear(2, 8),\n",
        "    nn.ReLU(),\n",
        "    nn.Linear(8, 1)\n",
        ").to(device)"
      ],
      "metadata": {
        "id": "DgPvSR5ZO1lr"
      },
      "execution_count": 66,
      "outputs": []
    },
    {
      "cell_type": "code",
      "source": [
        "# Print a summary of the model\n",
        "\n",
        "!pip install torch_summary"
      ],
      "metadata": {
        "id": "cOSsJ2saO8OV"
      },
      "execution_count": null,
      "outputs": []
    },
    {
      "cell_type": "code",
      "source": [
        "from torchsummary import summary\n",
        "\n",
        "summary(model, torch.zeros(1,2))"
      ],
      "metadata": {
        "colab": {
          "base_uri": "https://localhost:8080/"
        },
        "id": "iQoBeHrJPCiR",
        "outputId": "d99d6095-d1c0-4069-a5f2-086180f4a468"
      },
      "execution_count": 68,
      "outputs": [
        {
          "output_type": "stream",
          "name": "stdout",
          "text": [
            "==========================================================================================\n",
            "Layer (type:depth-idx)                   Output Shape              Param #\n",
            "==========================================================================================\n",
            "├─Linear: 1-1                            [-1, 8]                   24\n",
            "├─ReLU: 1-2                              [-1, 8]                   --\n",
            "├─Linear: 1-3                            [-1, 1]                   9\n",
            "==========================================================================================\n",
            "Total params: 33\n",
            "Trainable params: 33\n",
            "Non-trainable params: 0\n",
            "Total mult-adds (M): 0.00\n",
            "==========================================================================================\n",
            "Input size (MB): 0.00\n",
            "Forward/backward pass size (MB): 0.00\n",
            "Params size (MB): 0.00\n",
            "Estimated Total Size (MB): 0.00\n",
            "==========================================================================================\n"
          ]
        },
        {
          "output_type": "execute_result",
          "data": {
            "text/plain": [
              "==========================================================================================\n",
              "Layer (type:depth-idx)                   Output Shape              Param #\n",
              "==========================================================================================\n",
              "├─Linear: 1-1                            [-1, 8]                   24\n",
              "├─ReLU: 1-2                              [-1, 8]                   --\n",
              "├─Linear: 1-3                            [-1, 1]                   9\n",
              "==========================================================================================\n",
              "Total params: 33\n",
              "Trainable params: 33\n",
              "Non-trainable params: 0\n",
              "Total mult-adds (M): 0.00\n",
              "==========================================================================================\n",
              "Input size (MB): 0.00\n",
              "Forward/backward pass size (MB): 0.00\n",
              "Params size (MB): 0.00\n",
              "Estimated Total Size (MB): 0.00\n",
              "=========================================================================================="
            ]
          },
          "metadata": {},
          "execution_count": 68
        }
      ]
    },
    {
      "cell_type": "code",
      "source": [
        "loss_func = nn.MSELoss()\n",
        "from torch.optim import SGD\n",
        "opt = SGD(model.parameters(), lr = 0.001)\n",
        "import time\n",
        "loss_history = []\n",
        "start = time.time()\n",
        "for _ in range(50):\n",
        "  for ix, iy in dl:\n",
        "    opt.zero_grad()\n",
        "    loss_value = loss_func(model(ix),iy)\n",
        "    loss_value.backward()\n",
        "    opt.step()\n",
        "    loss_history.append(loss_value)\n",
        "end = time.time()\n",
        "print(end - start)"
      ],
      "metadata": {
        "colab": {
          "base_uri": "https://localhost:8080/"
        },
        "id": "jjdaoLXwPYPn",
        "outputId": "71c8b8fe-272c-43a3-c0e6-9a51c67656e0"
      },
      "execution_count": 69,
      "outputs": [
        {
          "output_type": "stream",
          "name": "stdout",
          "text": [
            "0.054453372955322266\n"
          ]
        }
      ]
    },
    {
      "cell_type": "code",
      "source": [
        "val = [[8,9],[10,11],[1.5,2.5]]"
      ],
      "metadata": {
        "id": "Sw552yDXPor7"
      },
      "execution_count": 70,
      "outputs": []
    },
    {
      "cell_type": "code",
      "source": [
        "model(torch.tensor(val).float().to(device))"
      ],
      "metadata": {
        "colab": {
          "base_uri": "https://localhost:8080/"
        },
        "id": "iK4X880YPsPF",
        "outputId": "fc3da933-7a24-4fd0-9ff6-ab0647216c4f"
      },
      "execution_count": 71,
      "outputs": [
        {
          "output_type": "execute_result",
          "data": {
            "text/plain": [
              "tensor([[16.7245],\n",
              "        [20.5408],\n",
              "        [ 4.3216]], grad_fn=<AddmmBackward0>)"
            ]
          },
          "metadata": {},
          "execution_count": 71
        }
      ]
    },
    {
      "cell_type": "markdown",
      "source": [
        "## Saving and loading a PyTorch model"
      ],
      "metadata": {
        "id": "DrqSjuSdP1Jk"
      }
    },
    {
      "cell_type": "markdown",
      "source": [
        "The model.state_dict() command is at the root of understanding how saving and\n",
        "loading PyTorch models works. The dictionary in model.state_dict()\n",
        "corresponds to the parameter names (keys) and the values (weight and bias values)\n",
        "corresponding to the model."
      ],
      "metadata": {
        "id": "LLIAUNOWQEHr"
      }
    },
    {
      "cell_type": "code",
      "source": [
        "model.state_dict()"
      ],
      "metadata": {
        "colab": {
          "base_uri": "https://localhost:8080/"
        },
        "id": "6GZ6xmWSPv_-",
        "outputId": "08bbf0fa-cd28-4524-a0c6-e74c2d970bbe"
      },
      "execution_count": 72,
      "outputs": [
        {
          "output_type": "execute_result",
          "data": {
            "text/plain": [
              "OrderedDict([('0.weight',\n",
              "              tensor([[ 0.1752, -0.3821],\n",
              "                      [ 0.2972,  1.1760],\n",
              "                      [ 0.2538, -0.5892],\n",
              "                      [ 0.2779, -0.3417],\n",
              "                      [-0.4919,  0.0077],\n",
              "                      [-0.6258, -0.2192],\n",
              "                      [-0.5091, -0.3709],\n",
              "                      [-0.0051,  0.6541]])),\n",
              "             ('0.bias',\n",
              "              tensor([ 0.5155, -0.0125, -0.1358, -0.4329,  0.4616, -0.3602,  0.2535, -0.1495])),\n",
              "             ('2.weight',\n",
              "              tensor([[ 0.3001,  1.1058, -0.0777,  0.1883, -0.2953, -0.1595,  0.0470,  0.4301]])),\n",
              "             ('2.bias', tensor([-0.0442]))])"
            ]
          },
          "metadata": {},
          "execution_count": 72
        }
      ]
    },
    {
      "cell_type": "code",
      "source": [
        "torch.save(model.to('cpu').state_dict(), 'mymodel.pth')"
      ],
      "metadata": {
        "id": "sWSoEGhWQMtd"
      },
      "execution_count": 73,
      "outputs": []
    },
    {
      "cell_type": "markdown",
      "source": [
        "## Loading"
      ],
      "metadata": {
        "id": "u5fc0zlFQSGk"
      }
    },
    {
      "cell_type": "code",
      "source": [
        "model = nn.Sequential(\n",
        "  nn.Linear(2, 8),\n",
        "  nn.ReLU(),\n",
        "  nn.Linear(8, 1)\n",
        ").to(device)"
      ],
      "metadata": {
        "id": "c7XuNmONQO5I"
      },
      "execution_count": 74,
      "outputs": []
    },
    {
      "cell_type": "code",
      "source": [
        "state_dict = torch.load('mymodel.pth')"
      ],
      "metadata": {
        "id": "fHRxstyZQXbm"
      },
      "execution_count": 75,
      "outputs": []
    },
    {
      "cell_type": "code",
      "source": [
        "model.load_state_dict(state_dict)\n",
        "# <All keys matched successfully>\n",
        "model.to(device)\n",
        "model(torch.tensor(val).float().to(device))"
      ],
      "metadata": {
        "colab": {
          "base_uri": "https://localhost:8080/"
        },
        "id": "H4yDrNHJQZJM",
        "outputId": "430720b8-e04a-406b-de84-f7164fb1c109"
      },
      "execution_count": 76,
      "outputs": [
        {
          "output_type": "execute_result",
          "data": {
            "text/plain": [
              "tensor([[16.7245],\n",
              "        [20.5408],\n",
              "        [ 4.3216]], grad_fn=<AddmmBackward0>)"
            ]
          },
          "metadata": {},
          "execution_count": 76
        }
      ]
    },
    {
      "cell_type": "code",
      "source": [],
      "metadata": {
        "id": "zS1yPvYHQeAL"
      },
      "execution_count": null,
      "outputs": []
    }
  ]
}